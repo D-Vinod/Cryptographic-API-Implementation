{
 "cells": [
  {
   "cell_type": "code",
   "execution_count": 36,
   "metadata": {},
   "outputs": [],
   "source": [
    "import requests\n",
    "import json\n",
    "\n",
    "# The URL of the server\n",
    "BASE_URL = \"http://pase.pythonanywhere.com\"\n"
   ]
  },
  {
   "cell_type": "markdown",
   "metadata": {},
   "source": [
    "# Key Generation"
   ]
  },
  {
   "cell_type": "markdown",
   "metadata": {},
   "source": [
    "Key types\\\n",
    "AES, RSA\\\n",
    "\\\n",
    "Key sizes\\\n",
    "AES = 128, 192, 256\\\n",
    "RSA = 2048, 3072, 4096 "
   ]
  },
  {
   "cell_type": "code",
   "execution_count": 37,
   "metadata": {},
   "outputs": [
    {
     "name": "stdout",
     "output_type": "stream",
     "text": [
      "{'key_id': '4', 'private_key': 'LS0tLS1CRUdJTiBQUklWQVRFIEtFWS0tLS0tCk1JSUpRd0lCQURBTkJna3Foa2lHOXcwQkFRRUZBQVNDQ1Mwd2dna3BBZ0VBQW9JQ0FRRGYwSTZYVDVUSTEwdjAKaUkzU0hTeGpPY2RoOWU0TjYyeUQyK2FlYlpCVTdhNldUNVFZa2wrNjUwbHZlV1JlQkpOemNqSGFVTHp6T0l3dgoybnhuUFhEZUdFelVBcHBBbitDSXFHUEFrY0QrTjBkeEk1aWZ1R2pkUnRNN3kxMlJKamdJNFVWTWRZMmI4NFYzCkFleFJQREl5TnhmR3pvaUJTSU9lOXZPMVErVW9ndmJKcUFUU1owbS9LMmRsajNKS2J5WUNUdnFVdmI0bHlmZHkKdTJDTzJ6ZlN6azExOXVhanUwNDd4bnI0aTRrMGFrMjk4S2ViQk9JdERJYUZEU2t2V2RVK2l4TS9kUERSSmdDcgpSQjRSUWZIazQ4azczSmw2Kzh5aUJNenF4OHg3Nmg0U2h6bXVoT3RLcExaNE1aVHQ5V2tRVXNPbmRSTkdXVmQvCmRmbU9LN1JwWCs0NGc4TUx5RWtMUFNvakxjU2ZmaGkwYWpOeGZ0a3p4M0lZODNhSDBDa1oyVStscVV2ZlBLVHAKR2NoMDdEbFBJWUZUT2YvODNBVmFNVXhuQ1NibGRYK1RrQ0ZSd1hqRkpkY3M4b2dKd3g1SWxoRGlOWWIzL00vOQp1SmZWSHhKZzh4c0F4aWptUjc0cWtFNE9WMXJPa0xVMmx4Z05JeXljS2JDa0MvdDF4aHZrelgzclI4bEVuWkdrCkRWV3JDZVk4YVdMVFdNTFFYcmVPWWJXNzMyTkRpVlF4U0lkVVhpTmN3VGRjdkFxSm1wa0srV3FtaTNKTjZvL1AKVDFYWUE1ZytFcTAyb0xoQ3hRZVpyeEpsYlRPOXFPOFJySzBmY0UrTDc1SDFKQVRraHNMci9aVHpQRnIrOFRCTQpQMDVHYTQyQTJHY05BYTNMaE5PTTBHN0xncmtaaXdJREFRQUJBb0lDQUJrdy84T3ZMT2Q0T0MvamFOY1Qrb21HCm1OY0JWOVNRUVl3TDVjYkNQVU1aNTVNNmpNaEJQVzRybHp2cFZXOHhvNmtVV3VFZ1FrdzcrcWR1TjU5bExuMkoKRGFpMVRFaG0xbDU3V1pMMHROeklPdzNVZkZySjVsKzFsNVA4M1dDM2hRb1cxUFo0cXNJNVpEWFRiUlp0cUphMwpWY0ZHUU40UVcrUTZGbzg1LzZLU0x4WGVpQUJvcU1mUUtsaW5qeTBxbW9RYkFLQmFSUHM2NHRPeW5Ia24ybjRyClExTzZRUlovd0J3QlNKa09GNWpqT0RIZlV2WWpWQlBPKzVzaE1wZ0dTL2E0cjZkdVVhYXcyTlZ1R3RaRmJtVWQKY0dxQTkzTjh3UGtoZ2pFUTRRYTNnTUFFSVcxdnY0NE13UThCUWFxUSswemZpKzhld2RjaXVqTDZBK2RKS3dxVgpZNEljZkQ5a3pXYzd6WlY2NCtGdmlFVllBYVd0bGtFVi9uVEx5cE1wV21samNMWm9VRnRBRThTY1Z3clRMazlSCkw4d3BpeVVrMlN3OVdKK3djU3ZMcmRISGVsYk1WeWpsbnNuZ1B4U3hHbm9xbjFJN1p5R1l2N1MwU2o2WFNic2oKa3FwaFVTL2xBRWVXSGtJVVYxR2ZEOFZhSXJaQnJCbFlnNk82ZmNEaSt6aXlRekdrVEFab3Jjd1haZHF3WWp3RgpYdnFIcEkrWnF0cUMrTnFaWjRnSU1QMStLdVRxbmlZak9TYkJDdU1LWU0yaWtsVHlrN3U1VjJGVHdjTHIzZUdECmw1QUt3UmxGelZVT2trLzdsZzlUQlFDTG1NZVI5dDFmK2xQZkNBekI5ckFzSDJUMjRLS1diV2xPN0gzSkltOHcKTlgzN2gzeDVDQXFYeUFpWlp1SzFBb0lCQVFEd2J6MDFpeW5tZmtZYmVQV2IydWY1d3RzVTZlTmdIN0NMck5mYgpNYk5CNk1MVGNCVU9yeXBJVU92Z24yTCtOeXZZMWZ0WDRpRlRxMkpCZXZhMktqZFBHVkNqTHhKZHFINmxVS2RQCmxWS0N3bEFiMzRmTjJLNm8xclJZNGg3d0tHSzZJVFlMUWY0VC9ZcEtlN0NtSVVwMmx6RnBVOUoreDZMYTl0KzUKdlB4d1QyS2FhOVZUaTFWdEwyL0p2QTZobVVYMmtrNHBSS3c5SzJaa1J5V2NOWWgvY2VhM1Zvb3dDelBRSExjZQpoRkNKYjA5bGw0eVZBTmEzRld0L2ZhU2lWR1pQT0NpS296a0tsZkJXd2VRWTB3dGc4Z28yVU1qYU51ckxMYjBUClZMNmo2eWRFZkpBanZYYkNndVc5cGJtWjRVVSs2VzB2bTBCclI3cHFDODZJdHZhbkFvSUJBUUR1VGQvV1A2a1IKaVJ0NFVsWlpXVlZrWWVWVTFpTk96MzM4QkM1dXNEVm01TDdkWjJ3UEVvS1ZLcmYzVWZKU3dIRVRKb2lDblozbApxV01zaWZhR2ZtcDdGN0R5WkExdEZNcXpSbHBid0xEazN4eFhYZSsvMWZROGFvTStpS2JPMHBaU3U4YXJrOVZ3CkM4YTZyWi9FVEdvQ0ZvSjNZL3FpRjNGVWhaamR4bnlBbzJDU00wakRJUHUrdkU1Sk1IeXlRbDBhQmJWMHFBRUoKWEI1WkhBRWdmSlVIZEM4VFVmYnk1eTY5OEczb1NubklSVi9vdHJaVURad0ZNaE9hdFZuVUUwdUJSY1BiNlh1SApYMHBLdHZnZ3J2VjNpajJpRTlXSExPY1Q2c0htZEg5c2phdEJtck5iNHgzR2RYY25OUkFFSks2V3h3a2hyN1E1CmNIek9nNWoxcDBaOUFvSUJBUUNsNWR0eUtvZkt4cTVSSG5FNkRSMnJORXcrYmZPNXk2UGhmRzJralBLSE03ZmEKZEtmUzdnSmF5NXMxN2tRNzdJMlFuSFZFK243TVlLRDNWWVVOeEt0TkpNYURFbU8xeENFK3FCd0p5WnFaSnNKbgp1U0RYWS85LytFV1FYdFhDRjl1bldtc1Q4WUVEQWhwOXNrTDlIbE5tNklQcmpTN2MwNXNIUXZpMEREYVN0L1B0CllTSmM5dk1HMTRobXhoL0NXU1B4TXBwRDEyS1JBblV3RS9kYmhZU2RpMVlLZ3VmdXBvd2x1T3FSWC9MQ0ljL0MKNVlMVy9URXFPdGxscXFnQ2FnSDkvMTNaNnkzY3BBQ2xuRHRxOVpRUVhIRzNjSjVtRXlhRzh4UlhWazRFaEtrZgpsR05RaGRaLytCblZkWmhQR1NUU2QvWWl0eGtIN1FJdlVkNDhieUpaQW9JQkFBb2tMRU5zNENBTDZxeGJMS3VPCnZyQ1A3ZmVIU1dkZ015ZFhjalpwcjB3YXJmaTBId2doTElkMmt1K21nQjUvYkJCNWtsT2txNFNMaWRucVlTQm0KSHRmd01TcVBrWGF6N05CbVRSQWNpaXFqU0F4N3hla3ZETDdKZFo1aXFGNmkzWnpWdXVXd1crUHh6RnBEYTBvcQpTbFNlYXB6MEYwVndvL1VKM25DSnN1Q3lremlGa0RJbHBERUF5SUFhM1NPazZWdGpKTTY3RzVndllHZEFadGZnCkZXT0UwVUFNTytzb1pYZlYxSWVQSzlHWENqYllGN2hKLy9yRW44cjByc2IwcjBEb0hDYXVzQUFaMFFxTzhNNUwKUTh6N2lCWHVyQ2FkaFpQMmFKd0xGeVVpZmtoRGNpQ1Y4TDF5WUVpOTNGbWd5Z0ZHcFIvVzMxK1dadWxPOW1KMQo1TzBDZ2dFQkFPeFg5Mi9hTlp0M0pKR1JyZ044Q0RSTDJsZi9VUEprWUo5T1BMSjZoK3JETFp0ZVVINm90V29pCnYzUHg1L2NLbnZ4TjJxUDJkQUlvNWM1a3JWRGVLTmMwUm5ISVd0M1FDa3ZGb1pTL2NMRlV3bTIxcG1PVk03VU8KU3FGTytkblJBbFBOV01xUWVqZC9iMzRKTXRkVmVmVDdZNWVqNTdjVWZKTVkxNnM4b0l4MEFjV1AzYlNISVhEbQpVZUNyUmNvMXY5OUphYlpKTTU5cms1L3l1a0U1a1YyQlhHOTBzQ3JkWVYxaHFseXAzckZEaHBWcWhONEJlOFQvCms1dC9QRkJISnpsK1NxejJrdVZkeXVGQUYyRnZDVjNjWEg4RkpSV2UrbElyWG01Mlphc3lPaDNrdHhLQTJBc0IKakYreXZXby81R0lyMm8zUUtoZXBCTEV0V01KeTYrUT0KLS0tLS1FTkQgUFJJVkFURSBLRVktLS0tLQo=', 'public_key': 'LS0tLS1CRUdJTiBQVUJMSUMgS0VZLS0tLS0KTUlJQ0lqQU5CZ2txaGtpRzl3MEJBUUVGQUFPQ0FnOEFNSUlDQ2dLQ0FnRUEzOUNPbDArVXlOZEw5SWlOMGgwcwpZem5IWWZYdURldHNnOXZtbm0yUVZPMnVsaytVR0pKZnV1ZEpiM2xrWGdTVGMzSXgybEM4OHppTUw5cDhaejF3CjNoaE0xQUthUUovZ2lLaGp3SkhBL2pkSGNTT1luN2hvM1ViVE84dGRrU1k0Q09GRlRIV05tL09GZHdIc1VUd3kKTWpjWHhzNklnVWlEbnZienRVUGxLSUwyeWFnRTBtZEp2eXRuWlk5eVNtOG1Bazc2bEwyK0pjbjNjcnRnanRzMwowczVOZGZibW83dE9POFo2K0l1Sk5HcE52ZkNubXdUaUxReUdoUTBwTDFuVlBvc1RQM1R3MFNZQXEwUWVFVUh4CjVPUEpPOXlaZXZ2TW9nVE02c2ZNZStvZUVvYzVyb1RyU3FTMmVER1U3ZlZwRUZMRHAzVVRSbGxYZjNYNWppdTAKYVYvdU9JUERDOGhKQ3owcUl5M0VuMzRZdEdvemNYN1pNOGR5R1BOMmg5QXBHZGxQcGFsTDN6eWs2Um5JZE93NQpUeUdCVXpuLy9Od0ZXakZNWndrbTVYVi9rNUFoVWNGNHhTWFhMUEtJQ2NNZVNKWVE0aldHOS96UC9iaVgxUjhTCllQTWJBTVlvNWtlK0twQk9EbGRhenBDMU5wY1lEU01zbkNtd3BBdjdkY1liNU0xOTYwZkpSSjJScEExVnF3bm0KUEdsaTAxakMwRjYzam1HMXU5OWpRNGxVTVVpSFZGNGpYTUUzWEx3S2lacVpDdmxxcG90eVRlcVB6MDlWMkFPWQpQaEt0TnFDNFFzVUhtYThTWlcwenZhanZFYXl0SDNCUGkrK1I5U1FFNUliQzYvMlU4enhhL3ZFd1REOU9SbXVOCmdOaG5EUUd0eTRUVGpOQnV5NEs1R1lzQ0F3RUFBUT09Ci0tLS0tRU5EIFBVQkxJQyBLRVktLS0tLQo='}\n"
     ]
    }
   ],
   "source": [
    "url_keygen = f\"{BASE_URL}/generate-key\"\n",
    "\n",
    "key_type = \"RSA\" # Available options: AES, RSA\n",
    "key_size = 4096 # Available options: 128, 192, 256 for AES; 2048, 3072, 4096 for RSA\n",
    "\n",
    "response = requests.post(url_keygen, json = {\"key_type\": key_type, \"key_size\": key_size})\n",
    "print(response.json())"
   ]
  },
  {
   "cell_type": "markdown",
   "metadata": {},
   "source": [
    "# Encryption"
   ]
  },
  {
   "cell_type": "code",
   "execution_count": 38,
   "metadata": {},
   "outputs": [
    {
     "name": "stdout",
     "output_type": "stream",
     "text": [
      "{'ciphertext': 'HAG4SPXjTo4utogm4VNTqTElWuja4dGBvKzIZFGKTNwpD7rkJswgoYhNdeVdgBrEK5qHaK6j+9cGmLGpwlBJeusSGHL0mjjib30owofxOApHb+I7hFB62HbRFVY3NuHvnpguGkPwGNH59uFe9N5lEKPT1uuSu2k1yRibc98yckCP9F+dOSlxkwu6X66wejsx/1h0wCmeurE7OOVwdGVA4Q59rj8De3cwPkL8eiByDL0+s8lPoQ0iCCwjYDxK2qJ9C95EoqN2LINe8MPi1xWbjHwQi6EyuK4pXUL/FTfH9kXGxl9GobYMaz/MH5AuAitUa0DQ/jEd2oGinTVcYzsJ4XLFQWLlSp76iDv0pRcEqLXPcbWswVWxi9ldJ0SU35U85EB6jQwZCVutrx3YQz3xIAsAp3hf1Wg2wncHSXx0nRn7iEIQaIIF52Tv8V6yqdN8ltFPHrJzQD447e5HILZ5fM7ZokMuQOLw5ancMmX2YjD+u0GVxIQ74byxfvCH0pIP/iGmNqhwn5pGU8LJ4Ibf1JA8+POozjWgi3SINLEZwywv71mSSW45hbljnXDlYrGFzfZ2ESNfVgtMpgTLp+/WvDjBWGc8OsfP5PDKVC4xjYi6cWvKZArWox9+FCV9og723waWOmBrhvbZYFpRgRZH7u45FJU/F1Hxb1Oh7WEo00E='}\n"
     ]
    }
   ],
   "source": [
    "url_enc = f\"{BASE_URL}/encrypt\"\n",
    "\n",
    "key_id = \"3\" # Use any key_id from 1 to the response of the keygen request\n",
    "plaintext = \"You are a wizard , Harry !\" \n",
    "algorithm = \"RSA\" # Use the same algorithm as the keygen request\n",
    "\n",
    "response = requests.post(url_enc, json = {\"key_id\": key_id, \"plaintext\": plaintext, \"algorithm\": algorithm})\n",
    "print(response.json()) "
   ]
  },
  {
   "cell_type": "markdown",
   "metadata": {},
   "source": [
    "# Decryption"
   ]
  },
  {
   "cell_type": "code",
   "execution_count": 43,
   "metadata": {},
   "outputs": [
    {
     "name": "stdout",
     "output_type": "stream",
     "text": [
      "{'plaintext': 'You are a wizard , Harry !'}\n"
     ]
    }
   ],
   "source": [
    "url_dec = f\"{BASE_URL}/decrypt\"\n",
    "\n",
    "key_id = \"3\" # Use the same key_id as the encryption request\n",
    "ciphertext = \"HAG4SPXjTo4utogm4VNTqTElWuja4dGBvKzIZFGKTNwpD7rkJswgoYhNdeVdgBrEK5qHaK6j+9cGmLGpwlBJeusSGHL0mjjib30owofxOApHb+I7hFB62HbRFVY3NuHvnpguGkPwGNH59uFe9N5lEKPT1uuSu2k1yRibc98yckCP9F+dOSlxkwu6X66wejsx/1h0wCmeurE7OOVwdGVA4Q59rj8De3cwPkL8eiByDL0+s8lPoQ0iCCwjYDxK2qJ9C95EoqN2LINe8MPi1xWbjHwQi6EyuK4pXUL/FTfH9kXGxl9GobYMaz/MH5AuAitUa0DQ/jEd2oGinTVcYzsJ4XLFQWLlSp76iDv0pRcEqLXPcbWswVWxi9ldJ0SU35U85EB6jQwZCVutrx3YQz3xIAsAp3hf1Wg2wncHSXx0nRn7iEIQaIIF52Tv8V6yqdN8ltFPHrJzQD447e5HILZ5fM7ZokMuQOLw5ancMmX2YjD+u0GVxIQ74byxfvCH0pIP/iGmNqhwn5pGU8LJ4Ibf1JA8+POozjWgi3SINLEZwywv71mSSW45hbljnXDlYrGFzfZ2ESNfVgtMpgTLp+/WvDjBWGc8OsfP5PDKVC4xjYi6cWvKZArWox9+FCV9og723waWOmBrhvbZYFpRgRZH7u45FJU/F1Hxb1Oh7WEo00E=\"\n",
    "algorithm = \"RSA\" # Use the same algorithm as the encryption request\n",
    "\n",
    "response = requests.post(url_dec, json = {\"key_id\": key_id, \"ciphertext\": ciphertext, \"algorithm\": algorithm})\n",
    "print(response.json()) "
   ]
  },
  {
   "cell_type": "markdown",
   "metadata": {},
   "source": [
    "# Hash Generation"
   ]
  },
  {
   "cell_type": "markdown",
   "metadata": {},
   "source": [
    "Algorithms\\\n",
    "SHA-256 & SHA-512"
   ]
  },
  {
   "cell_type": "code",
   "execution_count": 44,
   "metadata": {},
   "outputs": [
    {
     "name": "stdout",
     "output_type": "stream",
     "text": [
      "{'algorithm': 'SHA-256', 'hash_value': 'hwF6QB5z7ddmj5/OqaBxOiuo8riY57mAZc1z0MTZ4c8='}\n"
     ]
    }
   ],
   "source": [
    "url_genhash = f\"{BASE_URL}/generate-hash\"\n",
    "\n",
    "data = \"You are a muggle, Dudley!\"\n",
    "hashing_algorithm = \"SHA-256\" # Available options: SHA-256, SHA-512\n",
    "\n",
    "response = requests.post(url_genhash, json= {\"data\": data, \"algorithm\": hashing_algorithm})\n",
    "print(response.json()) "
   ]
  },
  {
   "cell_type": "markdown",
   "metadata": {},
   "source": [
    "# Hash Verification"
   ]
  },
  {
   "cell_type": "code",
   "execution_count": 46,
   "metadata": {},
   "outputs": [
    {
     "name": "stdout",
     "output_type": "stream",
     "text": [
      "{'hash_validity': True, 'message': 'Hash matches the data.'}\n"
     ]
    }
   ],
   "source": [
    "url = f\"{BASE_URL}/verify-hash\"\n",
    "\n",
    "data = \"You are a muggle, Dudley!\"\n",
    "hash_value = \"hwF6QB5z7ddmj5/OqaBxOiuo8riY57mAZc1z0MTZ4c8=\"\n",
    "hashing_algorithm = \"SHA-256\" # Use the same algorithm as the hash generation request\n",
    "\n",
    "response = requests.post(url, json= {\"data\": data, \"hash_value\": hash_value, \"algorithm\": hashing_algorithm})\n",
    "print(response.json()) "
   ]
  },
  {
   "cell_type": "code",
   "execution_count": 47,
   "metadata": {},
   "outputs": [
    {
     "name": "stdout",
     "output_type": "stream",
     "text": [
      "{'hash_validity': False, 'message': 'Hash does not match the data.'}\n"
     ]
    }
   ],
   "source": [
    "url = f\"{BASE_URL}/verify-hash\"\n",
    "\n",
    "data = \"You are a muggle, Dudley!\"\n",
    "hash_value = \"hwF6QB5z7ddmj5/dsfgegegegerwgsdv=\"\n",
    "hashing_algorithm = \"SHA-256\" # Use the same algorithm as the hash generation request\n",
    "\n",
    "response = requests.post(url, json= {\"data\": data, \"hash_value\": hash_value, \"algorithm\": hashing_algorithm})\n",
    "print(response.json()) "
   ]
  }
 ],
 "metadata": {
  "kernelspec": {
   "display_name": "Python 3",
   "language": "python",
   "name": "python3"
  },
  "language_info": {
   "codemirror_mode": {
    "name": "ipython",
    "version": 3
   },
   "file_extension": ".py",
   "mimetype": "text/x-python",
   "name": "python",
   "nbconvert_exporter": "python",
   "pygments_lexer": "ipython3",
   "version": "3.12.8"
  }
 },
 "nbformat": 4,
 "nbformat_minor": 2
}
