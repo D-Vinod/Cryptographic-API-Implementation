{
 "cells": [
  {
   "cell_type": "code",
   "execution_count": 29,
   "metadata": {},
   "outputs": [],
   "source": [
    "import requests\n",
    "import json\n",
    "\n",
    "# The URL of the server\n",
    "BASE_URL = \"http://pase.pythonanywhere.com\"\n"
   ]
  },
  {
   "cell_type": "markdown",
   "metadata": {},
   "source": [
    "# Key Generation"
   ]
  },
  {
   "cell_type": "markdown",
   "metadata": {},
   "source": [
    "Key types\\\n",
    "AES, RSA\\\n",
    "\\\n",
    "Key sizes\\\n",
    "AES = 128, 192, 256\\\n",
    "RSA = 2048, 3072, 4096 "
   ]
  },
  {
   "cell_type": "code",
   "execution_count": 34,
   "metadata": {},
   "outputs": [
    {
     "name": "stdout",
     "output_type": "stream",
     "text": [
      "{'key_id': '4', 'private_key': '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', 'public_key': 'LS0tLS1CRUdJTiBQVUJMSUMgS0VZLS0tLS0KTUlJQklqQU5CZ2txaGtpRzl3MEJBUUVGQUFPQ0FROEFNSUlCQ2dLQ0FRRUFxRTg3TFViL0VlR1RBTWl5UXVQTAorRkN0RWRFc1ppdVJUQWNjMDhCdWVjSUFGbTZ2QldCc2FETVhMdDVVSXUyQlJCL3hOemoxSisyUkN0QmxHTExWCitmUjVmTm5KT25ZWWRvZkZvRGJhOU1NMXpudTRYRmlaeWZNQ1REd3o3bUN1c0dVZ0pLcXZKZVJybUNPRlVsMEgKQjlFY3V1QlBtbmpkQllKdE4zNTFLcTB2NXZvRStRdmNMb2VqZWpMR0JSNi85c1J2QWdhU3d0Y0Qvcy92S0xkbApNNkNaUGpybnZLdGlTaTZBT3I2cEovOWFvbjEvdDFXTWFXbkEvUktPMXMwMGRwSEJRYjVKdG5hajNoZGNadGpGCmUrUSt1NG95S3lPckFma2VBU3RoMFY3TWpwOFY0UzB3TWIySGRUSGN6WE5TcTlmNzRvc0t1UnNnSmNSbUNDL2IKYndJREFRQUIKLS0tLS1FTkQgUFVCTElDIEtFWS0tLS0tCg=='}\n"
     ]
    }
   ],
   "source": [
    "url = f\"{BASE_URL}/generate-key\"\n",
    "response = requests.post(url, json={\"key_type\": \"RSA\", \"key_size\": 2048})\n",
    "print(response.json())"
   ]
  },
  {
   "cell_type": "markdown",
   "metadata": {},
   "source": [
    "# Encryption"
   ]
  },
  {
   "cell_type": "code",
   "execution_count": 35,
   "metadata": {},
   "outputs": [
    {
     "name": "stdout",
     "output_type": "stream",
     "text": [
      "{'ciphertext': 'mZFkbHBZ/DKYrm0s9uDCW8d9pKDpq6tLfYdSTqGZ1U+NU2ojmMORpCm+1lUrDc45RqinqjJlerzu7vK/2ZHeeHLaAw95Uc9LLW9fiywgikrj3GzkFWOxJfqg1DCdQRMiKC2tP5HR3cyHco2ESHGNNyv86af3ZqNL79lZjKVo7oGp5E3KxMHSPc9RgQ+4FBdaxivVkgZBdRXGjqlOVTKecJ3YLZIrVzbl7DDj2qp+gbGodgf+H+S1hnmGw3JerSYXOCvLVSoveggPk9U3rfmvSCaqUlNmzUBhKqFNx0ZBRRAxooTR3l/Wg5fVw9ltaOdUleUCexvNWbV/4O8UoVoKxA=='}\n"
     ]
    }
   ],
   "source": [
    "url = f\"{BASE_URL}/encrypt\"\n",
    "data = {\"key_id\": \"4\", \"plaintext\": \"You are a wizard Harry\", \"algorithm\": \"RSA\"}\n",
    "\n",
    "response = requests.post(url, json=data)\n",
    "print(response.json()) "
   ]
  },
  {
   "cell_type": "markdown",
   "metadata": {},
   "source": [
    "# Decryption"
   ]
  },
  {
   "cell_type": "code",
   "execution_count": 37,
   "metadata": {},
   "outputs": [
    {
     "name": "stdout",
     "output_type": "stream",
     "text": [
      "{'plaintext': 'You are a wizard Harry'}\n"
     ]
    }
   ],
   "source": [
    "url = f\"{BASE_URL}/decrypt\"\n",
    "data = {\"key_id\": \"4\", \"ciphertext\": \"mZFkbHBZ/DKYrm0s9uDCW8d9pKDpq6tLfYdSTqGZ1U+NU2ojmMORpCm+1lUrDc45RqinqjJlerzu7vK/2ZHeeHLaAw95Uc9LLW9fiywgikrj3GzkFWOxJfqg1DCdQRMiKC2tP5HR3cyHco2ESHGNNyv86af3ZqNL79lZjKVo7oGp5E3KxMHSPc9RgQ+4FBdaxivVkgZBdRXGjqlOVTKecJ3YLZIrVzbl7DDj2qp+gbGodgf+H+S1hnmGw3JerSYXOCvLVSoveggPk9U3rfmvSCaqUlNmzUBhKqFNx0ZBRRAxooTR3l/Wg5fVw9ltaOdUleUCexvNWbV/4O8UoVoKxA==\", \"algorithm\": \"RSA\"}\n",
    "\n",
    "response = requests.post(url, json=data)\n",
    "print(response.json()) "
   ]
  },
  {
   "cell_type": "markdown",
   "metadata": {},
   "source": [
    "# Hash Generation"
   ]
  },
  {
   "cell_type": "markdown",
   "metadata": {},
   "source": [
    "Algorithms\\\n",
    "SHA-256 & SHA-512"
   ]
  },
  {
   "cell_type": "code",
   "execution_count": 38,
   "metadata": {},
   "outputs": [
    {
     "name": "stdout",
     "output_type": "stream",
     "text": [
      "{'algorithm': 'SHA-512', 'hash_value': 'pOAfFUXOXLnYWElwQD1aRa8NrjDl0MTiiBDr5ko1eUZrdEkNY1+4PpQuFx/hI3J2WZz1IRt0gC/+3Eru7xxuQA=='}\n"
     ]
    }
   ],
   "source": [
    "url = f\"{BASE_URL}/generate-hash\"\n",
    "data = {\"data\": \"You are a wizard, Harry!\", \"algorithm\": \"SHA-512\"}\n",
    "\n",
    "response = requests.post(url, json=data)\n",
    "print(response.json()) "
   ]
  },
  {
   "cell_type": "markdown",
   "metadata": {},
   "source": [
    "# Hash Verification"
   ]
  },
  {
   "cell_type": "code",
   "execution_count": 39,
   "metadata": {},
   "outputs": [
    {
     "name": "stdout",
     "output_type": "stream",
     "text": [
      "{'hash_validity': True, 'message': 'Hash matches the data.'}\n"
     ]
    }
   ],
   "source": [
    "url = f\"{BASE_URL}/verify-hash\"\n",
    "data = {\"data\": \"You are a wizard, Harry!\", \"hash_value\": \"pOAfFUXOXLnYWElwQD1aRa8NrjDl0MTiiBDr5ko1eUZrdEkNY1+4PpQuFx/hI3J2WZz1IRt0gC/+3Eru7xxuQA==\", \"algorithm\": \"SHA-512\"}\n",
    "\n",
    "response = requests.post(url, json=data)\n",
    "print(response.json()) "
   ]
  },
  {
   "cell_type": "code",
   "execution_count": 40,
   "metadata": {},
   "outputs": [
    {
     "name": "stdout",
     "output_type": "stream",
     "text": [
      "{'hash_validity': False, 'message': 'Hash does not match the data.'}\n"
     ]
    }
   ],
   "source": [
    "url = f\"{BASE_URL}/verify-hash\"\n",
    "data = {\"data\": \"Good morning, Harry!\", \"hash_value\": \"JpOAfFUXOXLnYWElwQD1aRa8NrjDl0MTiiBDr5ko1eUZrdEkNY1+4PpQuFx/hI3J2WZz1IRt0gC/+3Eru7xxuQA==\", \"algorithm\": \"SHA-256\"}\n",
    "\n",
    "response = requests.post(url, json=data)\n",
    "print(response.json()) "
   ]
  }
 ],
 "metadata": {
  "kernelspec": {
   "display_name": "Python 3",
   "language": "python",
   "name": "python3"
  },
  "language_info": {
   "codemirror_mode": {
    "name": "ipython",
    "version": 3
   },
   "file_extension": ".py",
   "mimetype": "text/x-python",
   "name": "python",
   "nbconvert_exporter": "python",
   "pygments_lexer": "ipython3",
   "version": "3.12.8"
  }
 },
 "nbformat": 4,
 "nbformat_minor": 2
}
