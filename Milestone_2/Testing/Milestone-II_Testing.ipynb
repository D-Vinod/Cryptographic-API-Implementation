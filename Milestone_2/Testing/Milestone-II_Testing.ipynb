{
 "cells": [
  {
   "cell_type": "code",
   "execution_count": 1,
   "metadata": {},
   "outputs": [],
   "source": [
    "import requests\n",
    "import json\n",
    "\n",
    "# The URL of the server\n",
    "BASE_URL = \"http://pase.pythonanywhere.com\"\n"
   ]
  },
  {
   "cell_type": "markdown",
   "metadata": {},
   "source": [
    "# Key Generation"
   ]
  },
  {
   "cell_type": "markdown",
   "metadata": {},
   "source": [
    "Key types\\\n",
    "AES, RSA\\\n",
    "\\\n",
    "Key sizes\\\n",
    "AES = 128, 192, 256\\\n",
    "RSA = 2048, 3072, 4096 "
   ]
  },
  {
   "cell_type": "code",
   "execution_count": 2,
   "metadata": {},
   "outputs": [
    {
     "name": "stdout",
     "output_type": "stream",
     "text": [
      "{'key_id': '7', 'key_value': 'I5CbBU43QwljJoE2CHGNrbwoTYFDqF0usxquFxNW5DY='}\n"
     ]
    }
   ],
   "source": [
    "url_keygen = f\"{BASE_URL}/generate-key\"\n",
    "\n",
    "key_type = \"AES\" # Available options: AES, RSA\n",
    "key_size = 256   # Available options: 128, 192, 256 for AES; 2048, 3072, 4096 for RSA\n",
    "\n",
    "response = requests.post(url_keygen, json = {\"key_type\": key_type, \"key_size\": key_size})\n",
    "print(response.json())"
   ]
  },
  {
   "cell_type": "markdown",
   "metadata": {},
   "source": [
    "# Encryption"
   ]
  },
  {
   "cell_type": "code",
   "execution_count": null,
   "metadata": {},
   "outputs": [
    {
     "name": "stdout",
     "output_type": "stream",
     "text": [
      "{'ciphertext': '26RDREdSieSpBraeqDzYp7eL07wJABkyInZttQTd9EqXDQzMzmcFNBSDTb1IA4PK'}\n"
     ]
    }
   ],
   "source": [
    "url_enc = f\"{BASE_URL}/encrypt\"\n",
    "\n",
    "key_id = \"7\" # Use any key_id from 1 to the response of the keygen request\n",
    "plaintext = \"You are a wizard , Harry!\"\n",
    "algorithm = \"AES\" # Use the same algorithm as the keygen request\n",
    "\n",
    "response = requests.post(url_enc, json = {\"key_id\": key_id, \"plaintext\": plaintext, \"algorithm\": algorithm})\n",
    "print(response.json()) "
   ]
  },
  {
   "cell_type": "markdown",
   "metadata": {},
   "source": [
    "# Decryption"
   ]
  },
  {
   "cell_type": "code",
   "execution_count": 6,
   "metadata": {},
   "outputs": [
    {
     "name": "stdout",
     "output_type": "stream",
     "text": [
      "{'plaintext': 'You are a wizard , Harry !'}\n"
     ]
    }
   ],
   "source": [
    "url_dec = f\"{BASE_URL}/decrypt\"\n",
    "\n",
    "key_id = \"7\" # Use the same key_id as the encryption request\n",
    "ciphertext = \"26RDREdSieSpBraeqDzYp7eL07wJABkyInZttQTd9EqXDQzMzmcFNBSDTb1IA4PK\"\n",
    "algorithm = \"AES\" # Use the same algorithm as the encryption request\n",
    "\n",
    "response = requests.post(url_dec, json = {\"key_id\": key_id, \"ciphertext\": ciphertext, \"algorithm\": algorithm})\n",
    "print(response.json()) "
   ]
  },
  {
   "cell_type": "markdown",
   "metadata": {},
   "source": [
    "# Hash Generation"
   ]
  },
  {
   "cell_type": "markdown",
   "metadata": {},
   "source": [
    "Algorithms\\\n",
    "SHA-256 & SHA-512"
   ]
  },
  {
   "cell_type": "code",
   "execution_count": 44,
   "metadata": {},
   "outputs": [
    {
     "name": "stdout",
     "output_type": "stream",
     "text": [
      "{'algorithm': 'SHA-256', 'hash_value': 'hwF6QB5z7ddmj5/OqaBxOiuo8riY57mAZc1z0MTZ4c8='}\n"
     ]
    }
   ],
   "source": [
    "url_genhash = f\"{BASE_URL}/generate-hash\"\n",
    "\n",
    "data = \"You are a muggle, Dudley!\"\n",
    "hashing_algorithm = \"SHA-256\" # Available options: SHA-256, SHA-512\n",
    "\n",
    "response = requests.post(url_genhash, json= {\"data\": data, \"algorithm\": hashing_algorithm})\n",
    "print(response.json()) "
   ]
  },
  {
   "cell_type": "markdown",
   "metadata": {},
   "source": [
    "# Hash Verification"
   ]
  },
  {
   "cell_type": "code",
   "execution_count": 46,
   "metadata": {},
   "outputs": [
    {
     "name": "stdout",
     "output_type": "stream",
     "text": [
      "{'hash_validity': True, 'message': 'Hash matches the data.'}\n"
     ]
    }
   ],
   "source": [
    "url = f\"{BASE_URL}/verify-hash\"\n",
    "\n",
    "data = \"You are a muggle, Dudley!\"\n",
    "hash_value = \"hwF6QB5z7ddmj5/OqaBxOiuo8riY57mAZc1z0MTZ4c8=\"\n",
    "hashing_algorithm = \"SHA-256\" # Use the same algorithm as the hash generation request\n",
    "\n",
    "response = requests.post(url, json= {\"data\": data, \"hash_value\": hash_value, \"algorithm\": hashing_algorithm})\n",
    "print(response.json()) "
   ]
  },
  {
   "cell_type": "code",
   "execution_count": 47,
   "metadata": {},
   "outputs": [
    {
     "name": "stdout",
     "output_type": "stream",
     "text": [
      "{'hash_validity': False, 'message': 'Hash does not match the data.'}\n"
     ]
    }
   ],
   "source": [
    "url = f\"{BASE_URL}/verify-hash\"\n",
    "\n",
    "data = \"You are a muggle, Dudley!\"\n",
    "hash_value = \"hwF6QB5z7ddmj5/dsfgegegegerwgsdv=\"\n",
    "hashing_algorithm = \"SHA-256\" # Use the same algorithm as the hash generation request\n",
    "\n",
    "response = requests.post(url, json= {\"data\": data, \"hash_value\": hash_value, \"algorithm\": hashing_algorithm})\n",
    "print(response.json()) "
   ]
  }
 ],
 "metadata": {
  "kernelspec": {
   "display_name": "Python 3",
   "language": "python",
   "name": "python3"
  },
  "language_info": {
   "codemirror_mode": {
    "name": "ipython",
    "version": 3
   },
   "file_extension": ".py",
   "mimetype": "text/x-python",
   "name": "python",
   "nbconvert_exporter": "python",
   "pygments_lexer": "ipython3",
   "version": "3.12.8"
  }
 },
 "nbformat": 4,
 "nbformat_minor": 2
}
