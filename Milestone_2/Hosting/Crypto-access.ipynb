{
 "cells": [
  {
   "cell_type": "code",
   "execution_count": 1,
   "metadata": {},
   "outputs": [],
   "source": [
    "import requests\n",
    "import json\n",
    "\n",
    "# Set the base URL of your FastAPI server\n",
    "BASE_URL = \"http://pase.pythonanywhere.com\""
   ]
  },
  {
   "cell_type": "code",
   "execution_count": 2,
   "metadata": {},
   "outputs": [
    {
     "name": "stdout",
     "output_type": "stream",
     "text": [
      "{'key_id': '4', 'key_value': 'ix23MM/sqrpBjw5BQccuSR+rcEK2mI+u1iB3EoU7+aQ='}\n"
     ]
    }
   ],
   "source": [
    "url = f\"{BASE_URL}/generate-key\"\n",
    "response = requests.post(url, json={\"key_type\": \"AES\", \"key_size\": 256})\n",
    "print(response.json())"
   ]
  },
  {
   "cell_type": "code",
   "execution_count": 3,
   "metadata": {},
   "outputs": [
    {
     "name": "stdout",
     "output_type": "stream",
     "text": [
      "{'ciphertext': 'mcJ2LeETHt+D/ecX93oYloARWi0GZTda9of8MJB/Zs4BevrqggvyoQACG5+RGNlHys1riQaMHvYtx58TrHrxOkr4Djl05+ZUcqX2Em7Lo0Nu4TQdeALr9vTb2NhxEKHyVidtscZbOLPS7a0bQo1fMVOrHWvkf5rQFRONJeNC97YaDi1hl4d5I3R9e4BpmUQAxUxt6UgBY/J8u18KJ/sPsw=='}\n"
     ]
    }
   ],
   "source": [
    "url = f\"{BASE_URL}/encrypt\"\n",
    "data = {\"key_id\": \"4\", \"plaintext\": \"Now, if you two don't mind, I'm going to bed before either of you come up with another clever idea to get us killed or worse... expelled!\", \"algorithm\": \"AES\"}\n",
    "\n",
    "response = requests.post(url, json=data)\n",
    "print(response.json())  # Should return {\"ciphertext\": \"...\"}\n"
   ]
  },
  {
   "cell_type": "code",
   "execution_count": 4,
   "metadata": {},
   "outputs": [
    {
     "name": "stdout",
     "output_type": "stream",
     "text": [
      "{'plaintext': \"Now, if you two don't mind, I'm going to bed before either of you come up with another clever idea to get us killed or worse... expelled!\"}\n"
     ]
    }
   ],
   "source": [
    "url = f\"{BASE_URL}/decrypt\"\n",
    "data = {\"key_id\": \"4\", \"ciphertext\": \"mcJ2LeETHt+D/ecX93oYloARWi0GZTda9of8MJB/Zs4BevrqggvyoQACG5+RGNlHys1riQaMHvYtx58TrHrxOkr4Djl05+ZUcqX2Em7Lo0Nu4TQdeALr9vTb2NhxEKHyVidtscZbOLPS7a0bQo1fMVOrHWvkf5rQFRONJeNC97YaDi1hl4d5I3R9e4BpmUQAxUxt6UgBY/J8u18KJ/sPsw==\", \"algorithm\": \"AES\"}\n",
    "\n",
    "response = requests.post(url, json=data)\n",
    "print(response.json())  # Should return {\"plaintext\": \"Hello, World!\"}\n"
   ]
  },
  {
   "cell_type": "code",
   "execution_count": null,
   "metadata": {},
   "outputs": [
    {
     "name": "stdout",
     "output_type": "stream",
     "text": [
      "{'algorithm': 'SHA-256', 'hash_value': 'JNRHqdLVFruA2v1EW0aDuy9MUgWX0CHUbGzr0gu8N20='}\n"
     ]
    }
   ],
   "source": [
    "url = f\"{BASE_URL}/generate-hash\"\n",
    "data = {\"data\": \"You are a wizard, Harry!\", \"algorithm\": \"SHA-256\"}\n",
    "\n",
    "response = requests.post(url, json=data)\n",
    "print(response.json())  # Should return {\"hash_value\": \"...\", \"algorithm\": \"SHA-256\"}\n"
   ]
  },
  {
   "cell_type": "code",
   "execution_count": 6,
   "metadata": {},
   "outputs": [
    {
     "name": "stdout",
     "output_type": "stream",
     "text": [
      "{'is_valid': True, 'message': 'Hash matches the data.'}\n"
     ]
    }
   ],
   "source": [
    "url = f\"{BASE_URL}/verify-hash\"\n",
    "data = {\"data\": \"You are a wizard, Harry!\", \"hash_value\": \"JNRHqdLVFruA2v1EW0aDuy9MUgWX0CHUbGzr0gu8N20=\", \"algorithm\": \"SHA-256\"}\n",
    "\n",
    "response = requests.post(url, json=data)\n",
    "print(response.json())  # Should return {\"is_valid\": True/False, \"message\": \"...\"}\n"
   ]
  }
 ],
 "metadata": {
  "kernelspec": {
   "display_name": "Python 3",
   "language": "python",
   "name": "python3"
  },
  "language_info": {
   "codemirror_mode": {
    "name": "ipython",
    "version": 3
   },
   "file_extension": ".py",
   "mimetype": "text/x-python",
   "name": "python",
   "nbconvert_exporter": "python",
   "pygments_lexer": "ipython3",
   "version": "3.12.8"
  }
 },
 "nbformat": 4,
 "nbformat_minor": 2
}
